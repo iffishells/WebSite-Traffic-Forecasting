{
 "cells": [
  {
   "cell_type": "code",
   "execution_count": 1,
   "metadata": {},
   "outputs": [],
   "source": [
    "import pandas as pd\n",
    "import numpy as np\n",
    "import darts\n",
    "import plotly as plt\n",
    "from datetime import datetime, timedelta\n",
    "import glob"
   ]
  },
  {
   "cell_type": "markdown",
   "metadata": {},
   "source": [
    "# Data loading"
   ]
  },
  {
   "cell_type": "code",
   "execution_count": 2,
   "metadata": {},
   "outputs": [
    {
     "data": {
      "text/html": [
       "<div>\n",
       "<style scoped>\n",
       "    .dataframe tbody tr th:only-of-type {\n",
       "        vertical-align: middle;\n",
       "    }\n",
       "\n",
       "    .dataframe tbody tr th {\n",
       "        vertical-align: top;\n",
       "    }\n",
       "\n",
       "    .dataframe thead th {\n",
       "        text-align: right;\n",
       "    }\n",
       "</style>\n",
       "<table border=\"1\" class=\"dataframe\">\n",
       "  <thead>\n",
       "    <tr style=\"text-align: right;\">\n",
       "      <th></th>\n",
       "      <th>Country</th>\n",
       "      <th>Fiscal Year</th>\n",
       "      <th>Fiscal Week</th>\n",
       "      <th>Global DGV NS Visits</th>\n",
       "    </tr>\n",
       "  </thead>\n",
       "  <tbody>\n",
       "    <tr>\n",
       "      <th>0</th>\n",
       "      <td>Australia</td>\n",
       "      <td>2024-FY</td>\n",
       "      <td>2024-W01</td>\n",
       "      <td>79932</td>\n",
       "    </tr>\n",
       "    <tr>\n",
       "      <th>1</th>\n",
       "      <td>Australia</td>\n",
       "      <td>2024-FY</td>\n",
       "      <td>2024-W02</td>\n",
       "      <td>78220</td>\n",
       "    </tr>\n",
       "    <tr>\n",
       "      <th>2</th>\n",
       "      <td>Australia</td>\n",
       "      <td>2024-FY</td>\n",
       "      <td>2024-W03</td>\n",
       "      <td>73804</td>\n",
       "    </tr>\n",
       "    <tr>\n",
       "      <th>3</th>\n",
       "      <td>Australia</td>\n",
       "      <td>2024-FY</td>\n",
       "      <td>2024-W04</td>\n",
       "      <td>73641</td>\n",
       "    </tr>\n",
       "    <tr>\n",
       "      <th>4</th>\n",
       "      <td>Australia</td>\n",
       "      <td>2024-FY</td>\n",
       "      <td>2024-W05</td>\n",
       "      <td>70572</td>\n",
       "    </tr>\n",
       "  </tbody>\n",
       "</table>\n",
       "</div>"
      ],
      "text/plain": [
       "     Country Fiscal Year Fiscal Week  Global DGV NS Visits\n",
       "0  Australia     2024-FY    2024-W01                 79932\n",
       "1  Australia     2024-FY    2024-W02                 78220\n",
       "2  Australia     2024-FY    2024-W03                 73804\n",
       "3  Australia     2024-FY    2024-W04                 73641\n",
       "4  Australia     2024-FY    2024-W05                 70572"
      ]
     },
     "execution_count": 2,
     "metadata": {},
     "output_type": "execute_result"
    }
   ],
   "source": [
    "df = pd.read_excel('../RawData/Book1.xlsx')\n",
    "df.head()"
   ]
  },
  {
   "cell_type": "markdown",
   "metadata": {},
   "source": [
    "# PreProcessing Data"
   ]
  },
  {
   "cell_type": "code",
   "execution_count": 3,
   "metadata": {},
   "outputs": [
    {
     "name": "stdout",
     "output_type": "stream",
     "text": [
      "Proprocessing the dataset of  Australia\n",
      "Proprocessing the dataset of  Brazil\n",
      "Proprocessing the dataset of  Canada\n",
      "Proprocessing the dataset of  China\n",
      "Proprocessing the dataset of  India\n",
      "Proprocessing the dataset of  Japan\n",
      "Proprocessing the dataset of  Malaysia\n",
      "Proprocessing the dataset of  Netherlands\n",
      "Proprocessing the dataset of  New Zealand\n",
      "Proprocessing the dataset of  Singapore\n",
      "Proprocessing the dataset of  Spain\n",
      "Proprocessing the dataset of  Sweden\n",
      "Proprocessing the dataset of  Switzerland\n",
      "Proprocessing the dataset of  United Kingdom\n",
      "Proprocessing the dataset of  United States\n"
     ]
    }
   ],
   "source": [
    "def get_year(year):\n",
    "    year = year.split('-')[0]\n",
    "    return int(year) \n",
    "def get_week(week):\n",
    "    week = week.split('-')[1][1:]\n",
    "    return int(week) \n",
    "def convert_to_datetime(row):\n",
    "    \n",
    "    year = row['year']\n",
    "    week_number = row['week_number']\n",
    "    date = datetime.strptime(f'{year}-{week_number}','%Y-%U')\n",
    "    return date\n",
    "\n",
    "    \n",
    "for name ,df_grouped in df.groupby('Country'):\n",
    "    print('Proprocessing the dataset of ',name)\n",
    "    index_grouped = df_grouped  \n",
    "    # Convert \"Fiscal Week\" to datetime\n",
    "    index_grouped['year'] =  index_grouped['Fiscal Week'].apply(get_year)\n",
    "    index_grouped['week_number'] =  index_grouped['Fiscal Week'].apply(get_week)\n",
    "    \n",
    "    \n",
    "    # index_grouped[\"start_of_week\"] = index_grouped.apply(convert_to_datetime, axis=1)\n",
    "    index_grouped['date'] = pd.to_datetime(index_grouped['year'].astype(str) + '-' + index_grouped['week_number'].astype(str) + '-1', format='%Y-%U-%w')\n",
    "\n",
    "\n",
    "    sorted_df = index_grouped.sort_values(by=['year','week_number'])\n",
    "    sorted_df.reset_index(inplace=True,drop=True)\n",
    "    sorted_df.to_csv(f'../ProcessedData/{name}.csv',index=False)\n"
   ]
  },
  {
   "cell_type": "markdown",
   "metadata": {},
   "source": [
    "# Visualization "
   ]
  },
  {
   "cell_type": "code",
   "execution_count": 10,
   "metadata": {},
   "outputs": [],
   "source": [
    "import pandas as pd\n",
    "import plotly.graph_objects as go\n",
    "from plotly.subplots import make_subplots\n",
    "\n",
    "def plot_scatter(df):\n",
    "    county_name = df['Country'].unique()[0]\n",
    "    # Convert year and week_number columns to datetime\n",
    "    df['date'] = pd.to_datetime(df['year'].astype(str) + '-' + df['week_number'].astype(str) + '-1', format='%Y-%U-%w')\n",
    "    \n",
    "    fig = go.Figure()\n",
    "\n",
    "    fig.add_trace(go.Scatter(x=df['date'], y=df['Global DGV NS Visits'], mode='markers+lines', name='Global DGV NS Visits'))\n",
    "    \n",
    "    fig.update_layout(\n",
    "        title=f'Visualization of Global DGV NS Visits vs {county_name}',\n",
    "        xaxis_title='Date',\n",
    "        yaxis_title='Global DGV NS Visits',\n",
    "        height=600,\n",
    "        width=1800,\n",
    "        font_size=14\n",
    "    )\n",
    "    # fig.show()\n",
    "    fig.write_html(f'../plots/{county_name}.html')\n"
   ]
  },
  {
   "cell_type": "code",
   "execution_count": 11,
   "metadata": {},
   "outputs": [],
   "source": [
    "path_list = glob.glob('../ProcessedData/*.csv')\n",
    "\n",
    "for path in path_list:\n",
    "    df =  pd.read_csv(path)\n",
    "    # calling for the visualisation \n",
    "    plot_scatter(df)\n",
    "    # break"
   ]
  },
  {
   "cell_type": "code",
   "execution_count": 9,
   "metadata": {},
   "outputs": [],
   "source": [
    "# meta_information_country = {}\n",
    "# for path in glob.glob('../plots/*.html'):\n",
    "#     country = path.split('/')[-1].split('.')[0]\n",
    "#     meta_information_country[country] =path\n",
    "    \n",
    "# meta_information_country"
   ]
  },
  {
   "cell_type": "code",
   "execution_count": null,
   "metadata": {},
   "outputs": [],
   "source": []
  },
  {
   "cell_type": "code",
   "execution_count": null,
   "metadata": {},
   "outputs": [],
   "source": []
  }
 ],
 "metadata": {
  "kernelspec": {
   "display_name": "Python 3 (ipykernel)",
   "language": "python",
   "name": "python3"
  },
  "language_info": {
   "codemirror_mode": {
    "name": "ipython",
    "version": 3
   },
   "file_extension": ".py",
   "mimetype": "text/x-python",
   "name": "python",
   "nbconvert_exporter": "python",
   "pygments_lexer": "ipython3",
   "version": "3.10.12"
  },
  "orig_nbformat": 4
 },
 "nbformat": 4,
 "nbformat_minor": 2
}
